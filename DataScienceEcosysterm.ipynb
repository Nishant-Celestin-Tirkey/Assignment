{
 "cells": [
  {
   "cell_type": "markdown",
   "id": "c0ff99ae",
   "metadata": {},
   "source": [
    "Exercise 2: Create markdown cell with title of the notebook"
   ]
  },
  {
   "cell_type": "markdown",
   "id": "4eafbf9a",
   "metadata": {},
   "source": [
    "# Data Science Tools and Ecosystem"
   ]
  },
  {
   "cell_type": "markdown",
   "id": "7c071fa8",
   "metadata": {},
   "source": [
    "Exercise 3 - Create a markdown cell for an introduction"
   ]
  },
  {
   "cell_type": "markdown",
   "id": "b027d489",
   "metadata": {},
   "source": [
    "###### In this notebook, Data Science Tools and Ecosystem are summarized."
   ]
  },
  {
   "cell_type": "markdown",
   "id": "78d9876b",
   "metadata": {},
   "source": [
    "Exercise 10 - Insert a markdown cell to list Objectives"
   ]
  },
  {
   "cell_type": "markdown",
   "id": "22beea07",
   "metadata": {},
   "source": [
    "**Objectives :**\n",
    "\n",
    "List popular languages for Data Science -\n",
    "\n",
    "- Python\n",
    "- R\n",
    "- Julia\n",
    "- Scala\n",
    "- Java\n",
    "- SQL\n",
    "\n"
   ]
  },
  {
   "cell_type": "markdown",
   "id": "4df0f6e0",
   "metadata": {},
   "source": [
    "Exercise 4 - Create a markdown cell to list data science languages"
   ]
  },
  {
   "cell_type": "markdown",
   "id": "5ea61827",
   "metadata": {},
   "source": [
    "###### Some of the popular languages that Data Scientists use are:\n",
    "\n",
    "1. Python\n",
    "2. R\n",
    "3. julia\n",
    "4. Scala\n",
    "5. Java\n",
    "6. SQL"
   ]
  },
  {
   "cell_type": "markdown",
   "id": "303217d4",
   "metadata": {},
   "source": [
    "Exercise 5 - Create a markdown cell to list data science libraries"
   ]
  },
  {
   "cell_type": "markdown",
   "id": "c749551a",
   "metadata": {},
   "source": [
    "###### Some of the commonly used libraries used by Data Scientists include:\n",
    "\n",
    "1. NumPy\n",
    "2. Pandas\n",
    "3. Scikit-learn\n",
    "4. PyTorch\n",
    "5. SciPy\n",
    "6. matplotlib"
   ]
  },
  {
   "cell_type": "markdown",
   "id": "7aa3b895",
   "metadata": {},
   "source": [
    "Exercise 6 - Create a markdown cell with a table of Data Science tools"
   ]
  },
  {
   "cell_type": "markdown",
   "id": "7b019eb9",
   "metadata": {},
   "source": [
    "###### table of Data Science tools\n",
    "\n",
    "| Data Science tools |\n",
    "| ------------------ |\n",
    "| Jupyter Notebook / JupyterLab |\n",
    "| R Studio |\n",
    "| VS Code |"
   ]
  },
  {
   "cell_type": "markdown",
   "id": "951e305a",
   "metadata": {},
   "source": [
    "Exercise 7 - Create a markdown cell introducing arithmetic expression examples"
   ]
  },
  {
   "cell_type": "markdown",
   "id": "6b23c28e",
   "metadata": {},
   "source": [
    "### Below are a few examples of evaluating arithmetic expressions in Python"
   ]
  },
  {
   "cell_type": "markdown",
   "id": "1006fb3d",
   "metadata": {},
   "source": [
    "Exercise 8 - Create a code cell to multiply and add numbers"
   ]
  },
  {
   "cell_type": "code",
   "execution_count": 1,
   "id": "be1272cd",
   "metadata": {},
   "outputs": [
    {
     "data": {
      "text/plain": [
       "17"
      ]
     },
     "execution_count": 1,
     "metadata": {},
     "output_type": "execute_result"
    }
   ],
   "source": [
    "# This a simple arithmetic expression to mutiply then add integers\n",
    "\n",
    "(3*4)+5"
   ]
  },
  {
   "cell_type": "markdown",
   "id": "a171cd9b",
   "metadata": {},
   "source": [
    "Exercise 9 - Create a code cell to convert minutes to hours"
   ]
  },
  {
   "cell_type": "code",
   "execution_count": 2,
   "id": "da3d6817",
   "metadata": {},
   "outputs": [
    {
     "data": {
      "text/plain": [
       "3.3333333333333335"
      ]
     },
     "execution_count": 2,
     "metadata": {},
     "output_type": "execute_result"
    }
   ],
   "source": [
    "# This will convert 200 minutes to hours by diving by 60\n",
    "\n",
    "200/60"
   ]
  },
  {
   "cell_type": "markdown",
   "id": "0dd0b1fd",
   "metadata": {},
   "source": [
    "Exercise 11 - Create a markdown cell to indicate the Author's name"
   ]
  },
  {
   "cell_type": "markdown",
   "id": "6d1b5712",
   "metadata": {},
   "source": [
    "## Author\n",
    "\n",
    "Nishant Celestin Tirkey"
   ]
  },
  {
   "cell_type": "code",
   "execution_count": null,
   "id": "4549e6b7",
   "metadata": {},
   "outputs": [],
   "source": []
  }
 ],
 "metadata": {
  "kernelspec": {
   "display_name": "Python 3 (ipykernel)",
   "language": "python",
   "name": "python3"
  },
  "language_info": {
   "codemirror_mode": {
    "name": "ipython",
    "version": 3
   },
   "file_extension": ".py",
   "mimetype": "text/x-python",
   "name": "python",
   "nbconvert_exporter": "python",
   "pygments_lexer": "ipython3",
   "version": "3.11.4"
  }
 },
 "nbformat": 4,
 "nbformat_minor": 5
}
